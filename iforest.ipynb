{
  "nbformat": 4,
  "nbformat_minor": 0,
  "metadata": {
    "colab": {
      "name": "Untitled",
      "provenance": [],
      "authorship_tag": "ABX9TyPHm1iZV07AmIMtR/k0J3I4",
      "include_colab_link": true
    },
    "kernelspec": {
      "name": "python3",
      "display_name": "Python 3"
    }
  },
  "cells": [
    {
      "cell_type": "markdown",
      "metadata": {
        "id": "view-in-github",
        "colab_type": "text"
      },
      "source": [
        "<a href=\"https://colab.research.google.com/github/rodrigosantis1/shp_anomaly/blob/master/iforest.ipynb\" target=\"_parent\"><img src=\"https://colab.research.google.com/assets/colab-badge.svg\" alt=\"Open In Colab\"/></a>"
      ]
    },
    {
      "cell_type": "code",
      "metadata": {
        "id": "miE_HhXGknsU",
        "colab_type": "code",
        "colab": {
          "base_uri": "https://localhost:8080/",
          "height": 255
        },
        "outputId": "ab68ae03-8622-444d-ba1d-ad394351d70f"
      },
      "source": [
        "!pip install isotree"
      ],
      "execution_count": null,
      "outputs": [
        {
          "output_type": "stream",
          "text": [
            "Collecting isotree\n",
            "\u001b[?25l  Downloading https://files.pythonhosted.org/packages/43/e7/0bb5931fa6ed64bb30b01887ab3fd5d66d5ca61ccec3bd629a58d8edfc62/isotree-0.1.16.tar.gz (108kB)\n",
            "\u001b[K     |████████████████████████████████| 112kB 2.8MB/s \n",
            "\u001b[?25h  Installing build dependencies ... \u001b[?25l\u001b[?25hdone\n",
            "  Getting requirements to build wheel ... \u001b[?25l\u001b[?25hdone\n",
            "    Preparing wheel metadata ... \u001b[?25l\u001b[?25hdone\n",
            "Building wheels for collected packages: isotree\n",
            "  Building wheel for isotree (PEP 517) ... \u001b[?25l\u001b[?25hdone\n",
            "  Created wheel for isotree: filename=isotree-0.1.16-cp36-cp36m-linux_x86_64.whl size=2765174 sha256=3f13868d39e067d778838b9571642abd54c0fa1265e877f1f8dee5f851335da3\n",
            "  Stored in directory: /root/.cache/pip/wheels/9f/e1/f0/72f0ea360855f759a8acc58f81393321e7f762abe23c9f1d41\n",
            "Successfully built isotree\n",
            "Installing collected packages: isotree\n",
            "Successfully installed isotree-0.1.16\n"
          ],
          "name": "stdout"
        }
      ]
    },
    {
      "cell_type": "code",
      "metadata": {
        "id": "MmT2sDO6k2O1",
        "colab_type": "code",
        "colab": {}
      },
      "source": [
        "from isotree import IsolationForest"
      ],
      "execution_count": null,
      "outputs": []
    }
  ]
}